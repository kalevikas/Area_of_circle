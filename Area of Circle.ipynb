{
 "cells": [
  {
   "cell_type": "markdown",
   "id": "5ef2e387",
   "metadata": {},
   "source": [
    "# Write a program to calculate area of circle with different radius.\n",
    "\n",
    "- Formula:-   Area of circle=pi*r**2"
   ]
  },
  {
   "cell_type": "markdown",
   "id": "a866206f",
   "metadata": {},
   "source": [
    "## Method 1:Normal way"
   ]
  },
  {
   "cell_type": "code",
   "execution_count": 1,
   "id": "8fb3fb73",
   "metadata": {},
   "outputs": [
    {
     "name": "stdout",
     "output_type": "stream",
     "text": [
      "[12.566370614359172, 28.274333882308138, 50.26548245743669, 78.53981633974483, 113.09733552923255, 153.93804002589985, 201.06192982974676]\n"
     ]
    }
   ],
   "source": [
    "import math\n",
    "radii=[2,3,4,5,6,7,8]\n",
    "r=[]\n",
    "for i in radii:\n",
    "    area=math.pi*i**2\n",
    "    r.append(area)\n",
    "print(r)"
   ]
  },
  {
   "cell_type": "markdown",
   "id": "261cb5e9",
   "metadata": {},
   "source": [
    "### We want to print only two decimal digits"
   ]
  },
  {
   "cell_type": "code",
   "execution_count": 2,
   "id": "d1ebddd4",
   "metadata": {},
   "outputs": [
    {
     "name": "stdout",
     "output_type": "stream",
     "text": [
      "<generator object <genexpr> at 0x00000183FFAFBF20>\n"
     ]
    }
   ],
   "source": [
    "import math\n",
    "radii=[2,3,4,5,6,7,8]\n",
    "r=[]\n",
    "for i in radii:\n",
    "    area=math.pi*i**2\n",
    "    r.append(area)\n",
    "print(round(num,2) for num in r)"
   ]
  },
  {
   "cell_type": "code",
   "execution_count": 3,
   "id": "6d7a2722",
   "metadata": {},
   "outputs": [
    {
     "name": "stdout",
     "output_type": "stream",
     "text": [
      "(12.57, 28.27, 50.27, 78.54, 113.1, 153.94, 201.06)\n"
     ]
    }
   ],
   "source": [
    "import math               # Import math module for pi.\n",
    "radii=[2,3,4,5,6,7,8]     # different radius in list.\n",
    "r=[]                      # create empty list to store area.\n",
    "for i in radii:           # To access each element in radii use for loop.\n",
    "    area=math.pi*i**2     # formula to caluculate area of circle.\n",
    "    r.append(area)        # append the result in r list.\n",
    "print(tuple(round(num,2) for num in r))   # Round(value,number of digit you want) "
   ]
  },
  {
   "cell_type": "markdown",
   "id": "defa1b76",
   "metadata": {},
   "source": [
    "## Method 2:Using function"
   ]
  },
  {
   "cell_type": "code",
   "execution_count": 12,
   "id": "3d24fd50",
   "metadata": {},
   "outputs": [],
   "source": [
    "import math\n",
    "def area_of_circle(r):\n",
    "    \"\"\"\n",
    "    Calculate area of circle with radius r.\n",
    "    Formula:-\n",
    "              area of circle=pi*r**2\n",
    "    \"\"\"\n",
    "    result=math.pi*r**2\n",
    "    return \"%.2f\"%(result)  # format(value,\".nf\")  where n=number of decimal places you want."
   ]
  },
  {
   "cell_type": "code",
   "execution_count": 13,
   "id": "1522a1dd",
   "metadata": {},
   "outputs": [
    {
     "data": {
      "text/plain": [
       "'12.57'"
      ]
     },
     "execution_count": 13,
     "metadata": {},
     "output_type": "execute_result"
    }
   ],
   "source": [
    "area_of_circle(2)"
   ]
  },
  {
   "cell_type": "code",
   "execution_count": 14,
   "id": "2226f7f3",
   "metadata": {},
   "outputs": [
    {
     "data": {
      "text/plain": [
       "'78.54'"
      ]
     },
     "execution_count": 14,
     "metadata": {},
     "output_type": "execute_result"
    }
   ],
   "source": [
    "area_of_circle(5)"
   ]
  },
  {
   "cell_type": "code",
   "execution_count": 15,
   "id": "94af7403",
   "metadata": {},
   "outputs": [
    {
     "name": "stdout",
     "output_type": "stream",
     "text": [
      "Help on function area_of_circle in module __main__:\n",
      "\n",
      "area_of_circle(r)\n",
      "    Calculate area of circle with radius r.\n",
      "    Formula:-\n",
      "              area of circle=pi*r**2\n",
      "\n"
     ]
    }
   ],
   "source": [
    "help(area_of_circle)"
   ]
  },
  {
   "cell_type": "code",
   "execution_count": 16,
   "id": "4d403a46",
   "metadata": {},
   "outputs": [
    {
     "name": "stdout",
     "output_type": "stream",
     "text": [
      "['In', 'Out', '_', '_13', '_14', '_5', '_6', '__', '___', '__builtin__', '__builtins__', '__doc__', '__loader__', '__name__', '__package__', '__spec__', '_dh', '_i', '_i1', '_i10', '_i11', '_i12', '_i13', '_i14', '_i15', '_i16', '_i2', '_i3', '_i4', '_i5', '_i6', '_i7', '_i8', '_i9', '_ih', '_ii', '_iii', '_oh', 'area', 'area_of_circle', 'exit', 'get_ipython', 'i', 'math', 'quit', 'r', 'radii']\n"
     ]
    }
   ],
   "source": [
    "print(dir())"
   ]
  },
  {
   "cell_type": "markdown",
   "id": "371dc2ac",
   "metadata": {},
   "source": [
    "### Method 3:Using lambda and map.\n",
    "- syntax for lambda:-  \n",
    "                       lambda variable:expression\n",
    "- syntax for map:-\n",
    "                     map(function,iterable or variables or data types)"
   ]
  },
  {
   "cell_type": "code",
   "execution_count": 17,
   "id": "2d6aba2c",
   "metadata": {},
   "outputs": [],
   "source": [
    "r=[2,3,4,5,6,7,8]\n"
   ]
  },
  {
   "cell_type": "code",
   "execution_count": 18,
   "id": "f1c11f2a",
   "metadata": {},
   "outputs": [],
   "source": [
    "result1=lambda r:math.pi*r**2"
   ]
  },
  {
   "cell_type": "code",
   "execution_count": 19,
   "id": "2caf28c1",
   "metadata": {},
   "outputs": [
    {
     "data": {
      "text/plain": [
       "<function __main__.<lambda>(r)>"
      ]
     },
     "execution_count": 19,
     "metadata": {},
     "output_type": "execute_result"
    }
   ],
   "source": [
    "result1"
   ]
  },
  {
   "cell_type": "code",
   "execution_count": 20,
   "id": "062b7e0e",
   "metadata": {},
   "outputs": [],
   "source": [
    "result2=list(map(result1,r))"
   ]
  },
  {
   "cell_type": "code",
   "execution_count": 21,
   "id": "8d848441",
   "metadata": {},
   "outputs": [
    {
     "name": "stdout",
     "output_type": "stream",
     "text": [
      "[12.566370614359172, 28.274333882308138, 50.26548245743669, 78.53981633974483, 113.09733552923255, 153.93804002589985, 201.06192982974676]\n"
     ]
    }
   ],
   "source": [
    "print(result2)"
   ]
  },
  {
   "cell_type": "code",
   "execution_count": 22,
   "id": "96af9c97",
   "metadata": {},
   "outputs": [
    {
     "name": "stdout",
     "output_type": "stream",
     "text": [
      "<generator object <genexpr> at 0x0000018381427DD0>\n"
     ]
    }
   ],
   "source": [
    "print(round(j,2) for j in result2)"
   ]
  },
  {
   "cell_type": "code",
   "execution_count": 23,
   "id": "4e2af68c",
   "metadata": {},
   "outputs": [
    {
     "name": "stdout",
     "output_type": "stream",
     "text": [
      "(12.57, 28.27, 50.27, 78.54, 113.1, 153.94, 201.06)\n"
     ]
    }
   ],
   "source": [
    "print(tuple(round(j,2) for j in result2))"
   ]
  },
  {
   "cell_type": "raw",
   "id": "4fdcecba",
   "metadata": {},
   "source": [
    "Program in one line"
   ]
  },
  {
   "cell_type": "code",
   "execution_count": 24,
   "id": "430a81e8",
   "metadata": {},
   "outputs": [],
   "source": [
    "result3=lambda radius:math.pi*radius**2"
   ]
  },
  {
   "cell_type": "code",
   "execution_count": 25,
   "id": "708e0543",
   "metadata": {},
   "outputs": [
    {
     "data": {
      "text/plain": [
       "12.566370614359172"
      ]
     },
     "execution_count": 25,
     "metadata": {},
     "output_type": "execute_result"
    }
   ],
   "source": [
    "result3(2)"
   ]
  },
  {
   "cell_type": "code",
   "execution_count": 26,
   "id": "373ee06a",
   "metadata": {},
   "outputs": [
    {
     "data": {
      "text/plain": [
       "201.06192982974676"
      ]
     },
     "execution_count": 26,
     "metadata": {},
     "output_type": "execute_result"
    }
   ],
   "source": [
    "result3(8)"
   ]
  },
  {
   "cell_type": "code",
   "execution_count": 30,
   "id": "b1e79046",
   "metadata": {},
   "outputs": [
    {
     "name": "stdout",
     "output_type": "stream",
     "text": [
      "201.06\n"
     ]
    }
   ],
   "source": [
    "print(\"%.2f\"%result3(8))"
   ]
  },
  {
   "cell_type": "code",
   "execution_count": null,
   "id": "b8bba0c1",
   "metadata": {},
   "outputs": [],
   "source": []
  }
 ],
 "metadata": {
  "kernelspec": {
   "display_name": "Python 3",
   "language": "python",
   "name": "python3"
  },
  "language_info": {
   "codemirror_mode": {
    "name": "ipython",
    "version": 3
   },
   "file_extension": ".py",
   "mimetype": "text/x-python",
   "name": "python",
   "nbconvert_exporter": "python",
   "pygments_lexer": "ipython3",
   "version": "3.8.8"
  }
 },
 "nbformat": 4,
 "nbformat_minor": 5
}
